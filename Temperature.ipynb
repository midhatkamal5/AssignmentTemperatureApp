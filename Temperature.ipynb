{
  "nbformat": 4,
  "nbformat_minor": 0,
  "metadata": {
    "colab": {
      "provenance": [],
      "authorship_tag": "ABX9TyOTW1cnXePyosYva4GNbhOy",
      "include_colab_link": true
    },
    "kernelspec": {
      "name": "python3",
      "display_name": "Python 3"
    },
    "language_info": {
      "name": "python"
    }
  },
  "cells": [
    {
      "cell_type": "markdown",
      "metadata": {
        "id": "view-in-github",
        "colab_type": "text"
      },
      "source": [
        "<a href=\"https://colab.research.google.com/github/midhatkamal5/AssignmentTemperatureApp/blob/main/Temperature.ipynb\" target=\"_parent\"><img src=\"https://colab.research.google.com/assets/colab-badge.svg\" alt=\"Open In Colab\"/></a>"
      ]
    },
    {
      "cell_type": "markdown",
      "source": [
        "# **ML Assignment 2**"
      ],
      "metadata": {
        "id": "GGmkCBhLAZoj"
      }
    },
    {
      "cell_type": "code",
      "execution_count": 3,
      "metadata": {
        "colab": {
          "base_uri": "https://localhost:8080/"
        },
        "id": "YfY4tTZVdYA-",
        "outputId": "2635fc8c-1f26-45d4-a482-b718a60270dd"
      },
      "outputs": [
        {
          "output_type": "stream",
          "name": "stdout",
          "text": [
            "Array of temperature values is: [16 30 30 30 31 30 30 25 15 16 26 21 30 18 18 17 33 20 21 23 16 15 32 30\n",
            " 21 21 27 25]\n",
            "\n",
            "Maximum is: 33\n",
            "\n",
            "Minimum is: 15\n",
            "\n",
            "Average is: 23.821428571428573\n",
            "\n",
            "Number of hot days are: 3\n",
            "\n",
            "Hottest Day index: 16\n",
            "\n",
            "Reshaped Array of temperature values is:\n",
            "[[16 30 30 30 31 30 30]\n",
            " [25 15 16 26 21 30 18]\n",
            " [18 17 33 20 21 23 16]\n",
            " [15 32 30 21 21 27 25]]\n",
            "\n",
            "Weekly Total and Average temperature is: \n",
            "Week 1:\n",
            "Total Temperature: 197.00\n",
            "Average Temperature: 28.14\n",
            "\n",
            "Week 2:\n",
            "Total Temperature: 151.00\n",
            "Average Temperature: 21.57\n",
            "\n",
            "Week 3:\n",
            "Total Temperature: 148.00\n",
            "Average Temperature: 21.14\n",
            "\n",
            "Week 4:\n",
            "Total Temperature: 171.00\n",
            "Average Temperature: 24.43\n",
            "\n"
          ]
        }
      ],
      "source": [
        "import numpy as np\n",
        "\n",
        "#Task 1 - Generate random daily temperature values for 30 days (28 days considered for settlement), ranging from 15°C to 35°C.\n",
        "array=np.random.randint(15,35,28)\n",
        "print(f\"Array of temperature values is: {array}\")\n",
        "print()\n",
        "\n",
        "#Task 2 - Calculate the average, maximum, and minimum temperatures for the entire month.\n",
        "arrayMaximum = np.max(array)\n",
        "print(f\"Maximum is: {arrayMaximum}\")\n",
        "print()\n",
        "\n",
        "arrayMinimum = np.min(array)\n",
        "print(f\"Minimum is: {arrayMinimum}\")\n",
        "print()\n",
        "\n",
        "arrayAverage = np.average(array)\n",
        "print(f\"Average is: {arrayAverage}\")\n",
        "print()\n",
        "\n",
        "#Task 3 - Identify the number of days when the temperature exceeds 30°C (considered as hot days).\n",
        "hotDays = np.sum(array > 30)\n",
        "print(f\"Number of hot days are: {hotDays}\")\n",
        "print()\n",
        "\n",
        "#Task 4- Determine the hottest day of the month, based on the highest temperature recorded.\n",
        "indexOfHottestDay = np.argmax(array)\n",
        "print(f\"Hottest Day index: {indexOfHottestDay}\")\n",
        "print()\n",
        "\n",
        "#Task 5 - Reshape the daily temperatures into weekly data for better analysis (consider 4 weeks with 7 days each).\n",
        "arrayReshaped = array.reshape(4,7)\n",
        "print(\"Reshaped Array of temperature values is as follows:\")\n",
        "print(f\"{arrayReshaped}\")\n",
        "print()\n",
        "\n",
        "#Task 6 - Calculate the total temperature and average temperature for each week.\n",
        "print(\"Weekly Total and Average temperature is as follows: \")\n",
        "totalWeekly = np.sum(arrayReshaped, axis=1)\n",
        "AverageWeekly = np.mean(arrayReshaped, axis=1)\n",
        "\n",
        "for i in range(arrayReshaped.shape[0]):\n",
        "    print(f\"Week {i+1}:\")\n",
        "    print(f\"Total Temperature: {totalWeekly[i]:.2f}\")\n",
        "    print(f\"Average Temperature: {AverageWeekly[i]:.2f}\")\n",
        "    print()\n"
      ]
    }
  ]
}